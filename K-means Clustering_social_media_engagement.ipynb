{
 "cells": [
  {
   "cell_type": "markdown",
   "metadata": {
    "id": "7O_jtnk4KCov"
   },
   "source": [
    "Load the dataset"
   ]
  },
  {
   "cell_type": "code",
   "execution_count": 13,
   "metadata": {
    "id": "d1brN51xKCox"
   },
   "outputs": [],
   "source": [
    "import warnings\n",
    "warnings.filterwarnings(\"ignore\")\n",
    "import pandas as pd"
   ]
  },
  {
   "cell_type": "code",
   "execution_count": 14,
   "metadata": {
    "colab": {
     "base_uri": "https://localhost:8080/",
     "height": 106
    },
    "executionInfo": {
     "elapsed": 482,
     "status": "error",
     "timestamp": 1730706755044,
     "user": {
      "displayName": "Shirsat Saurabh Girish (PGDM 23-25)",
      "userId": "10365784960197800357"
     },
     "user_tz": -330
    },
    "id": "6POKFUfZKCoy",
    "outputId": "4e5ab9d3-22a2-4a6e-cd97-60fd79eaa4f6"
   },
   "outputs": [],
   "source": [
    "media = pd.read_csv(r\"C:\\Users\\shrey\\Downloads\\social_media_engagement_data (1).csv\")"
   ]
  },
  {
   "cell_type": "code",
   "execution_count": 15,
   "metadata": {},
   "outputs": [
    {
     "data": {
      "text/html": [
       "<div>\n",
       "<style scoped>\n",
       "    .dataframe tbody tr th:only-of-type {\n",
       "        vertical-align: middle;\n",
       "    }\n",
       "\n",
       "    .dataframe tbody tr th {\n",
       "        vertical-align: top;\n",
       "    }\n",
       "\n",
       "    .dataframe thead th {\n",
       "        text-align: right;\n",
       "    }\n",
       "</style>\n",
       "<table border=\"1\" class=\"dataframe\">\n",
       "  <thead>\n",
       "    <tr style=\"text-align: right;\">\n",
       "      <th></th>\n",
       "      <th>Posts_Per_Month</th>\n",
       "      <th>Avg_Likes_Per_Post</th>\n",
       "      <th>Number_Of_Followers</th>\n",
       "      <th>Time_Spent_Per_Day</th>\n",
       "      <th>Engagement_Rate</th>\n",
       "      <th>Comments_Per_Post</th>\n",
       "      <th>Shares_Per_Post</th>\n",
       "      <th>Content_Type_Preference</th>\n",
       "      <th>Peak_Activity_Hour</th>\n",
       "      <th>Days_Active_Per_Week</th>\n",
       "      <th>Profile_Completeness</th>\n",
       "      <th>Influencer_Status</th>\n",
       "    </tr>\n",
       "  </thead>\n",
       "  <tbody>\n",
       "    <tr>\n",
       "      <th>0</th>\n",
       "      <td>12</td>\n",
       "      <td>106.087691</td>\n",
       "      <td>413.107130</td>\n",
       "      <td>1.218727</td>\n",
       "      <td>8.685658</td>\n",
       "      <td>4</td>\n",
       "      <td>4</td>\n",
       "      <td>Text</td>\n",
       "      <td>10</td>\n",
       "      <td>3</td>\n",
       "      <td>53.678168</td>\n",
       "      <td>True</td>\n",
       "    </tr>\n",
       "    <tr>\n",
       "      <th>1</th>\n",
       "      <td>6</td>\n",
       "      <td>54.527677</td>\n",
       "      <td>1580.601714</td>\n",
       "      <td>1.735474</td>\n",
       "      <td>4.952348</td>\n",
       "      <td>0</td>\n",
       "      <td>7</td>\n",
       "      <td>Text</td>\n",
       "      <td>11</td>\n",
       "      <td>1</td>\n",
       "      <td>52.671730</td>\n",
       "      <td>False</td>\n",
       "    </tr>\n",
       "    <tr>\n",
       "      <th>2</th>\n",
       "      <td>11</td>\n",
       "      <td>146.425156</td>\n",
       "      <td>96.369581</td>\n",
       "      <td>2.397132</td>\n",
       "      <td>8.622720</td>\n",
       "      <td>8</td>\n",
       "      <td>2</td>\n",
       "      <td>Text</td>\n",
       "      <td>18</td>\n",
       "      <td>6</td>\n",
       "      <td>96.877517</td>\n",
       "      <td>True</td>\n",
       "    </tr>\n",
       "    <tr>\n",
       "      <th>3</th>\n",
       "      <td>14</td>\n",
       "      <td>153.876330</td>\n",
       "      <td>585.599379</td>\n",
       "      <td>1.372855</td>\n",
       "      <td>9.037812</td>\n",
       "      <td>9</td>\n",
       "      <td>2</td>\n",
       "      <td>Text</td>\n",
       "      <td>18</td>\n",
       "      <td>3</td>\n",
       "      <td>76.493781</td>\n",
       "      <td>True</td>\n",
       "    </tr>\n",
       "    <tr>\n",
       "      <th>4</th>\n",
       "      <td>7</td>\n",
       "      <td>81.616339</td>\n",
       "      <td>112.155672</td>\n",
       "      <td>2.146779</td>\n",
       "      <td>1.562118</td>\n",
       "      <td>4</td>\n",
       "      <td>2</td>\n",
       "      <td>Image</td>\n",
       "      <td>20</td>\n",
       "      <td>7</td>\n",
       "      <td>80.745151</td>\n",
       "      <td>True</td>\n",
       "    </tr>\n",
       "    <tr>\n",
       "      <th>...</th>\n",
       "      <td>...</td>\n",
       "      <td>...</td>\n",
       "      <td>...</td>\n",
       "      <td>...</td>\n",
       "      <td>...</td>\n",
       "      <td>...</td>\n",
       "      <td>...</td>\n",
       "      <td>...</td>\n",
       "      <td>...</td>\n",
       "      <td>...</td>\n",
       "      <td>...</td>\n",
       "      <td>...</td>\n",
       "    </tr>\n",
       "    <tr>\n",
       "      <th>395</th>\n",
       "      <td>7</td>\n",
       "      <td>63.710769</td>\n",
       "      <td>1150.459969</td>\n",
       "      <td>2.322608</td>\n",
       "      <td>7.889921</td>\n",
       "      <td>5</td>\n",
       "      <td>4</td>\n",
       "      <td>Image</td>\n",
       "      <td>3</td>\n",
       "      <td>2</td>\n",
       "      <td>84.293814</td>\n",
       "      <td>False</td>\n",
       "    </tr>\n",
       "    <tr>\n",
       "      <th>396</th>\n",
       "      <td>13</td>\n",
       "      <td>150.177172</td>\n",
       "      <td>11.032525</td>\n",
       "      <td>2.277802</td>\n",
       "      <td>1.000105</td>\n",
       "      <td>3</td>\n",
       "      <td>5</td>\n",
       "      <td>Image</td>\n",
       "      <td>3</td>\n",
       "      <td>7</td>\n",
       "      <td>91.663564</td>\n",
       "      <td>True</td>\n",
       "    </tr>\n",
       "    <tr>\n",
       "      <th>397</th>\n",
       "      <td>9</td>\n",
       "      <td>112.570570</td>\n",
       "      <td>545.009190</td>\n",
       "      <td>2.044790</td>\n",
       "      <td>4.749092</td>\n",
       "      <td>2</td>\n",
       "      <td>2</td>\n",
       "      <td>Image</td>\n",
       "      <td>16</td>\n",
       "      <td>1</td>\n",
       "      <td>62.497949</td>\n",
       "      <td>False</td>\n",
       "    </tr>\n",
       "    <tr>\n",
       "      <th>398</th>\n",
       "      <td>12</td>\n",
       "      <td>78.849644</td>\n",
       "      <td>1653.777490</td>\n",
       "      <td>1.901331</td>\n",
       "      <td>5.702592</td>\n",
       "      <td>3</td>\n",
       "      <td>2</td>\n",
       "      <td>Video</td>\n",
       "      <td>13</td>\n",
       "      <td>5</td>\n",
       "      <td>80.476425</td>\n",
       "      <td>True</td>\n",
       "    </tr>\n",
       "    <tr>\n",
       "      <th>399</th>\n",
       "      <td>13</td>\n",
       "      <td>98.326928</td>\n",
       "      <td>410.681430</td>\n",
       "      <td>1.924363</td>\n",
       "      <td>1.491710</td>\n",
       "      <td>2</td>\n",
       "      <td>1</td>\n",
       "      <td>Video</td>\n",
       "      <td>17</td>\n",
       "      <td>5</td>\n",
       "      <td>79.259739</td>\n",
       "      <td>True</td>\n",
       "    </tr>\n",
       "  </tbody>\n",
       "</table>\n",
       "<p>400 rows × 12 columns</p>\n",
       "</div>"
      ],
      "text/plain": [
       "     Posts_Per_Month  Avg_Likes_Per_Post  Number_Of_Followers  \\\n",
       "0                 12          106.087691           413.107130   \n",
       "1                  6           54.527677          1580.601714   \n",
       "2                 11          146.425156            96.369581   \n",
       "3                 14          153.876330           585.599379   \n",
       "4                  7           81.616339           112.155672   \n",
       "..               ...                 ...                  ...   \n",
       "395                7           63.710769          1150.459969   \n",
       "396               13          150.177172            11.032525   \n",
       "397                9          112.570570           545.009190   \n",
       "398               12           78.849644          1653.777490   \n",
       "399               13           98.326928           410.681430   \n",
       "\n",
       "     Time_Spent_Per_Day  Engagement_Rate  Comments_Per_Post  Shares_Per_Post  \\\n",
       "0              1.218727         8.685658                  4                4   \n",
       "1              1.735474         4.952348                  0                7   \n",
       "2              2.397132         8.622720                  8                2   \n",
       "3              1.372855         9.037812                  9                2   \n",
       "4              2.146779         1.562118                  4                2   \n",
       "..                  ...              ...                ...              ...   \n",
       "395            2.322608         7.889921                  5                4   \n",
       "396            2.277802         1.000105                  3                5   \n",
       "397            2.044790         4.749092                  2                2   \n",
       "398            1.901331         5.702592                  3                2   \n",
       "399            1.924363         1.491710                  2                1   \n",
       "\n",
       "    Content_Type_Preference  Peak_Activity_Hour  Days_Active_Per_Week  \\\n",
       "0                      Text                  10                     3   \n",
       "1                      Text                  11                     1   \n",
       "2                      Text                  18                     6   \n",
       "3                      Text                  18                     3   \n",
       "4                     Image                  20                     7   \n",
       "..                      ...                 ...                   ...   \n",
       "395                   Image                   3                     2   \n",
       "396                   Image                   3                     7   \n",
       "397                   Image                  16                     1   \n",
       "398                   Video                  13                     5   \n",
       "399                   Video                  17                     5   \n",
       "\n",
       "     Profile_Completeness  Influencer_Status  \n",
       "0               53.678168               True  \n",
       "1               52.671730              False  \n",
       "2               96.877517               True  \n",
       "3               76.493781               True  \n",
       "4               80.745151               True  \n",
       "..                    ...                ...  \n",
       "395             84.293814              False  \n",
       "396             91.663564               True  \n",
       "397             62.497949              False  \n",
       "398             80.476425               True  \n",
       "399             79.259739               True  \n",
       "\n",
       "[400 rows x 12 columns]"
      ]
     },
     "execution_count": 15,
     "metadata": {},
     "output_type": "execute_result"
    }
   ],
   "source": [
    "media"
   ]
  },
  {
   "cell_type": "code",
   "execution_count": 16,
   "metadata": {
    "id": "JYCkiKaYKCoz",
    "outputId": "9cc68a95-2b1e-4693-e2b4-25c0d316d679",
    "scrolled": true
   },
   "outputs": [
    {
     "name": "stdout",
     "output_type": "stream",
     "text": [
      "<class 'pandas.core.frame.DataFrame'>\n",
      "RangeIndex: 400 entries, 0 to 399\n",
      "Data columns (total 12 columns):\n",
      " #   Column                   Non-Null Count  Dtype  \n",
      "---  ------                   --------------  -----  \n",
      " 0   Posts_Per_Month          400 non-null    int64  \n",
      " 1   Avg_Likes_Per_Post       400 non-null    float64\n",
      " 2   Number_Of_Followers      400 non-null    float64\n",
      " 3   Time_Spent_Per_Day       400 non-null    float64\n",
      " 4   Engagement_Rate          400 non-null    float64\n",
      " 5   Comments_Per_Post        400 non-null    int64  \n",
      " 6   Shares_Per_Post          400 non-null    int64  \n",
      " 7   Content_Type_Preference  400 non-null    object \n",
      " 8   Peak_Activity_Hour       400 non-null    int64  \n",
      " 9   Days_Active_Per_Week     400 non-null    int64  \n",
      " 10  Profile_Completeness     400 non-null    float64\n",
      " 11  Influencer_Status        400 non-null    bool   \n",
      "dtypes: bool(1), float64(5), int64(5), object(1)\n",
      "memory usage: 34.9+ KB\n"
     ]
    }
   ],
   "source": [
    "media.info()"
   ]
  },
  {
   "cell_type": "code",
   "execution_count": 17,
   "metadata": {},
   "outputs": [],
   "source": [
    "del media['Content_Type_Preference']"
   ]
  },
  {
   "cell_type": "code",
   "execution_count": 18,
   "metadata": {},
   "outputs": [],
   "source": [
    "del media['Influencer_Status']"
   ]
  },
  {
   "cell_type": "code",
   "execution_count": 19,
   "metadata": {
    "id": "c45xO64lKCo0",
    "outputId": "7ecd33cb-c0e6-432a-af1b-f7ffd66965ee"
   },
   "outputs": [
    {
     "data": {
      "text/html": [
       "<div>\n",
       "<style scoped>\n",
       "    .dataframe tbody tr th:only-of-type {\n",
       "        vertical-align: middle;\n",
       "    }\n",
       "\n",
       "    .dataframe tbody tr th {\n",
       "        vertical-align: top;\n",
       "    }\n",
       "\n",
       "    .dataframe thead th {\n",
       "        text-align: right;\n",
       "    }\n",
       "</style>\n",
       "<table border=\"1\" class=\"dataframe\">\n",
       "  <thead>\n",
       "    <tr style=\"text-align: right;\">\n",
       "      <th></th>\n",
       "      <th>Posts_Per_Month</th>\n",
       "      <th>Avg_Likes_Per_Post</th>\n",
       "      <th>Number_Of_Followers</th>\n",
       "      <th>Time_Spent_Per_Day</th>\n",
       "      <th>Engagement_Rate</th>\n",
       "      <th>Comments_Per_Post</th>\n",
       "      <th>Shares_Per_Post</th>\n",
       "      <th>Peak_Activity_Hour</th>\n",
       "      <th>Days_Active_Per_Week</th>\n",
       "      <th>Profile_Completeness</th>\n",
       "    </tr>\n",
       "  </thead>\n",
       "  <tbody>\n",
       "    <tr>\n",
       "      <th>0</th>\n",
       "      <td>12</td>\n",
       "      <td>106.087691</td>\n",
       "      <td>413.107130</td>\n",
       "      <td>1.218727</td>\n",
       "      <td>8.685658</td>\n",
       "      <td>4</td>\n",
       "      <td>4</td>\n",
       "      <td>10</td>\n",
       "      <td>3</td>\n",
       "      <td>53.678168</td>\n",
       "    </tr>\n",
       "    <tr>\n",
       "      <th>1</th>\n",
       "      <td>6</td>\n",
       "      <td>54.527677</td>\n",
       "      <td>1580.601714</td>\n",
       "      <td>1.735474</td>\n",
       "      <td>4.952348</td>\n",
       "      <td>0</td>\n",
       "      <td>7</td>\n",
       "      <td>11</td>\n",
       "      <td>1</td>\n",
       "      <td>52.671730</td>\n",
       "    </tr>\n",
       "    <tr>\n",
       "      <th>2</th>\n",
       "      <td>11</td>\n",
       "      <td>146.425156</td>\n",
       "      <td>96.369581</td>\n",
       "      <td>2.397132</td>\n",
       "      <td>8.622720</td>\n",
       "      <td>8</td>\n",
       "      <td>2</td>\n",
       "      <td>18</td>\n",
       "      <td>6</td>\n",
       "      <td>96.877517</td>\n",
       "    </tr>\n",
       "    <tr>\n",
       "      <th>3</th>\n",
       "      <td>14</td>\n",
       "      <td>153.876330</td>\n",
       "      <td>585.599379</td>\n",
       "      <td>1.372855</td>\n",
       "      <td>9.037812</td>\n",
       "      <td>9</td>\n",
       "      <td>2</td>\n",
       "      <td>18</td>\n",
       "      <td>3</td>\n",
       "      <td>76.493781</td>\n",
       "    </tr>\n",
       "    <tr>\n",
       "      <th>4</th>\n",
       "      <td>7</td>\n",
       "      <td>81.616339</td>\n",
       "      <td>112.155672</td>\n",
       "      <td>2.146779</td>\n",
       "      <td>1.562118</td>\n",
       "      <td>4</td>\n",
       "      <td>2</td>\n",
       "      <td>20</td>\n",
       "      <td>7</td>\n",
       "      <td>80.745151</td>\n",
       "    </tr>\n",
       "  </tbody>\n",
       "</table>\n",
       "</div>"
      ],
      "text/plain": [
       "   Posts_Per_Month  Avg_Likes_Per_Post  Number_Of_Followers  \\\n",
       "0               12          106.087691           413.107130   \n",
       "1                6           54.527677          1580.601714   \n",
       "2               11          146.425156            96.369581   \n",
       "3               14          153.876330           585.599379   \n",
       "4                7           81.616339           112.155672   \n",
       "\n",
       "   Time_Spent_Per_Day  Engagement_Rate  Comments_Per_Post  Shares_Per_Post  \\\n",
       "0            1.218727         8.685658                  4                4   \n",
       "1            1.735474         4.952348                  0                7   \n",
       "2            2.397132         8.622720                  8                2   \n",
       "3            1.372855         9.037812                  9                2   \n",
       "4            2.146779         1.562118                  4                2   \n",
       "\n",
       "   Peak_Activity_Hour  Days_Active_Per_Week  Profile_Completeness  \n",
       "0                  10                     3             53.678168  \n",
       "1                  11                     1             52.671730  \n",
       "2                  18                     6             96.877517  \n",
       "3                  18                     3             76.493781  \n",
       "4                  20                     7             80.745151  "
      ]
     },
     "execution_count": 19,
     "metadata": {},
     "output_type": "execute_result"
    }
   ],
   "source": [
    "media.head()"
   ]
  },
  {
   "cell_type": "markdown",
   "metadata": {
    "id": "tC9ekvYiKCo0"
   },
   "source": [
    "### Step 2:\n"
   ]
  },
  {
   "cell_type": "code",
   "execution_count": 20,
   "metadata": {
    "id": "EBfZrr2eKCo0",
    "outputId": "54b2a057-fbd7-495d-9584-dab7a05511b3"
   },
   "outputs": [],
   "source": [
    "samples = media.values # get all row and columne with header"
   ]
  },
  {
   "cell_type": "code",
   "execution_count": 21,
   "metadata": {},
   "outputs": [
    {
     "data": {
      "text/plain": [
       "array([[1.20000000e+01, 1.06087691e+02, 4.13107130e+02, ...,\n",
       "        1.00000000e+01, 3.00000000e+00, 5.36781677e+01],\n",
       "       [6.00000000e+00, 5.45276766e+01, 1.58060171e+03, ...,\n",
       "        1.10000000e+01, 1.00000000e+00, 5.26717301e+01],\n",
       "       [1.10000000e+01, 1.46425156e+02, 9.63695815e+01, ...,\n",
       "        1.80000000e+01, 6.00000000e+00, 9.68775169e+01],\n",
       "       ...,\n",
       "       [9.00000000e+00, 1.12570570e+02, 5.45009190e+02, ...,\n",
       "        1.60000000e+01, 1.00000000e+00, 6.24979491e+01],\n",
       "       [1.20000000e+01, 7.88496443e+01, 1.65377749e+03, ...,\n",
       "        1.30000000e+01, 5.00000000e+00, 8.04764255e+01],\n",
       "       [1.30000000e+01, 9.83269277e+01, 4.10681430e+02, ...,\n",
       "        1.70000000e+01, 5.00000000e+00, 7.92597393e+01]])"
      ]
     },
     "execution_count": 21,
     "metadata": {},
     "output_type": "execute_result"
    }
   ],
   "source": [
    "samples"
   ]
  },
  {
   "cell_type": "markdown",
   "metadata": {
    "id": "cCL5w4cRKCo1"
   },
   "source": [
    "### Step 3: Elbow Method\n"
   ]
  },
  {
   "cell_type": "code",
   "execution_count": 24,
   "metadata": {
    "id": "YhXHKCnyKCo1",
    "outputId": "aa78d906-1d54-44b3-e3ea-c96d3b0a2a01"
   },
   "outputs": [
    {
     "data": {
      "image/png": "[encoded data removed]",
      "text/plain": [
       "<Figure size 800x550 with 1 Axes>"
      ]
     },
     "metadata": {},
     "output_type": "display_data"
    },
    {
     "data": {
      "text/plain": [
       "<Axes: title={'center': 'Distortion Score Elbow for KMeans Clustering'}, xlabel='k', ylabel='distortion score'>"
      ]
     },
     "execution_count": 24,
     "metadata": {},
     "output_type": "execute_result"
    }
   ],
   "source": [
    "from sklearn.cluster import KMeans\n",
    "from yellowbrick.cluster import KElbowVisualizer\n",
    "km = KMeans(random_state=42)\n",
    "visualizer = KElbowVisualizer(km, k=(1,10),timings=False)\n",
    "visualizer.fit(samples)        # Fit the data to the visualizer\n",
    "visualizer.show()"
   ]
  },
  {
   "cell_type": "code",
   "execution_count": 23,
   "metadata": {},
   "outputs": [
    {
     "name": "stdout",
     "output_type": "stream",
     "text": [
      "Collecting yellowbrick\n",
      "  Obtaining dependency information for yellowbrick from https://files.pythonhosted.org/packages/06/35/c7d44bb541c06bc41b3239b27af79ea0ecc7dbb156ee1335576f99c58b91/yellowbrick-1.5-py3-none-any.whl.metadata\n",
      "  Downloading yellowbrick-1.5-py3-none-any.whl.metadata (7.7 kB)\n",
      "Requirement already satisfied: matplotlib!=3.0.0,>=2.0.2 in c:\\users\\shrey\\anaconda3\\lib\\site-packages (from yellowbrick) (3.7.2)\n",
      "Requirement already satisfied: scipy>=1.0.0 in c:\\users\\shrey\\anaconda3\\lib\\site-packages (from yellowbrick) (1.14.1)\n",
      "Requirement already satisfied: scikit-learn>=1.0.0 in c:\\users\\shrey\\anaconda3\\lib\\site-packages (from yellowbrick) (1.5.2)\n",
      "Requirement already satisfied: numpy>=1.16.0 in c:\\users\\shrey\\anaconda3\\lib\\site-packages (from yellowbrick) (1.24.4)\n",
      "Requirement already satisfied: cycler>=0.10.0 in c:\\users\\shrey\\anaconda3\\lib\\site-packages (from yellowbrick) (0.11.0)\n",
      "Requirement already satisfied: contourpy>=1.0.1 in c:\\users\\shrey\\anaconda3\\lib\\site-packages (from matplotlib!=3.0.0,>=2.0.2->yellowbrick) (1.0.5)\n",
      "Requirement already satisfied: fonttools>=4.22.0 in c:\\users\\shrey\\anaconda3\\lib\\site-packages (from matplotlib!=3.0.0,>=2.0.2->yellowbrick) (4.25.0)\n",
      "Requirement already satisfied: kiwisolver>=1.0.1 in c:\\users\\shrey\\anaconda3\\lib\\site-packages (from matplotlib!=3.0.0,>=2.0.2->yellowbrick) (1.4.4)\n",
      "Requirement already satisfied: packaging>=20.0 in c:\\users\\shrey\\anaconda3\\lib\\site-packages (from matplotlib!=3.0.0,>=2.0.2->yellowbrick) (23.1)\n",
      "Requirement already satisfied: pillow>=6.2.0 in c:\\users\\shrey\\anaconda3\\lib\\site-packages (from matplotlib!=3.0.0,>=2.0.2->yellowbrick) (10.3.0)\n",
      "Requirement already satisfied: pyparsing<3.1,>=2.3.1 in c:\\users\\shrey\\anaconda3\\lib\\site-packages (from matplotlib!=3.0.0,>=2.0.2->yellowbrick) (3.0.9)\n",
      "Requirement already satisfied: python-dateutil>=2.7 in c:\\users\\shrey\\anaconda3\\lib\\site-packages (from matplotlib!=3.0.0,>=2.0.2->yellowbrick) (2.8.2)\n",
      "Requirement already satisfied: joblib>=1.2.0 in c:\\users\\shrey\\anaconda3\\lib\\site-packages (from scikit-learn>=1.0.0->yellowbrick) (1.2.0)\n",
      "Requirement already satisfied: threadpoolctl>=3.1.0 in c:\\users\\shrey\\anaconda3\\lib\\site-packages (from scikit-learn>=1.0.0->yellowbrick) (3.5.0)\n",
      "Requirement already satisfied: six>=1.5 in c:\\users\\shrey\\anaconda3\\lib\\site-packages (from python-dateutil>=2.7->matplotlib!=3.0.0,>=2.0.2->yellowbrick) (1.16.0)\n",
      "Downloading yellowbrick-1.5-py3-none-any.whl (282 kB)\n",
      "   ---------------------------------------- 0.0/282.6 kB ? eta -:--:--\n",
      "   - -------------------------------------- 10.2/282.6 kB ? eta -:--:--\n",
      "   --------------- ------------------------ 112.6/282.6 kB 1.7 MB/s eta 0:00:01\n",
      "   ---------------------------------------- 282.6/282.6 kB 2.9 MB/s eta 0:00:00\n",
      "Installing collected packages: yellowbrick\n",
      "Successfully installed yellowbrick-1.5\n",
      "Note: you may need to restart the kernel to use updated packages.\n"
     ]
    }
   ],
   "source": [
    "# pip install yellowbrick"
   ]
  },
  {
   "cell_type": "markdown",
   "metadata": {
    "id": "9ghHXrZRKCo1"
   },
   "source": [
    "# Model"
   ]
  },
  {
   "cell_type": "code",
   "execution_count": 25,
   "metadata": {
    "id": "3JUTMvcfKCo1"
   },
   "outputs": [],
   "source": [
    "model2 = KMeans(n_clusters=3,max_iter=100,random_state=42)"
   ]
  },
  {
   "cell_type": "code",
   "execution_count": 27,
   "metadata": {
    "id": "8J4QMVXfKCo2",
    "outputId": "41c03f12-0892-4e30-db20-a7276c58a016"
   },
   "outputs": [],
   "source": [
    "media['Cluster_Made'] = model2.fit_predict(samples)"
   ]
  },
  {
   "cell_type": "code",
   "execution_count": 28,
   "metadata": {},
   "outputs": [
    {
     "data": {
      "text/html": [
       "<div>\n",
       "<style scoped>\n",
       "    .dataframe tbody tr th:only-of-type {\n",
       "        vertical-align: middle;\n",
       "    }\n",
       "\n",
       "    .dataframe tbody tr th {\n",
       "        vertical-align: top;\n",
       "    }\n",
       "\n",
       "    .dataframe thead th {\n",
       "        text-align: right;\n",
       "    }\n",
       "</style>\n",
       "<table border=\"1\" class=\"dataframe\">\n",
       "  <thead>\n",
       "    <tr style=\"text-align: right;\">\n",
       "      <th></th>\n",
       "      <th>Posts_Per_Month</th>\n",
       "      <th>Avg_Likes_Per_Post</th>\n",
       "      <th>Number_Of_Followers</th>\n",
       "      <th>Time_Spent_Per_Day</th>\n",
       "      <th>Engagement_Rate</th>\n",
       "      <th>Comments_Per_Post</th>\n",
       "      <th>Shares_Per_Post</th>\n",
       "      <th>Peak_Activity_Hour</th>\n",
       "      <th>Days_Active_Per_Week</th>\n",
       "      <th>Profile_Completeness</th>\n",
       "      <th>Cluster_Made</th>\n",
       "    </tr>\n",
       "  </thead>\n",
       "  <tbody>\n",
       "    <tr>\n",
       "      <th>0</th>\n",
       "      <td>12</td>\n",
       "      <td>106.087691</td>\n",
       "      <td>413.107130</td>\n",
       "      <td>1.218727</td>\n",
       "      <td>8.685658</td>\n",
       "      <td>4</td>\n",
       "      <td>4</td>\n",
       "      <td>10</td>\n",
       "      <td>3</td>\n",
       "      <td>53.678168</td>\n",
       "      <td>1</td>\n",
       "    </tr>\n",
       "    <tr>\n",
       "      <th>1</th>\n",
       "      <td>6</td>\n",
       "      <td>54.527677</td>\n",
       "      <td>1580.601714</td>\n",
       "      <td>1.735474</td>\n",
       "      <td>4.952348</td>\n",
       "      <td>0</td>\n",
       "      <td>7</td>\n",
       "      <td>11</td>\n",
       "      <td>1</td>\n",
       "      <td>52.671730</td>\n",
       "      <td>2</td>\n",
       "    </tr>\n",
       "    <tr>\n",
       "      <th>2</th>\n",
       "      <td>11</td>\n",
       "      <td>146.425156</td>\n",
       "      <td>96.369581</td>\n",
       "      <td>2.397132</td>\n",
       "      <td>8.622720</td>\n",
       "      <td>8</td>\n",
       "      <td>2</td>\n",
       "      <td>18</td>\n",
       "      <td>6</td>\n",
       "      <td>96.877517</td>\n",
       "      <td>1</td>\n",
       "    </tr>\n",
       "    <tr>\n",
       "      <th>3</th>\n",
       "      <td>14</td>\n",
       "      <td>153.876330</td>\n",
       "      <td>585.599379</td>\n",
       "      <td>1.372855</td>\n",
       "      <td>9.037812</td>\n",
       "      <td>9</td>\n",
       "      <td>2</td>\n",
       "      <td>18</td>\n",
       "      <td>3</td>\n",
       "      <td>76.493781</td>\n",
       "      <td>0</td>\n",
       "    </tr>\n",
       "    <tr>\n",
       "      <th>4</th>\n",
       "      <td>7</td>\n",
       "      <td>81.616339</td>\n",
       "      <td>112.155672</td>\n",
       "      <td>2.146779</td>\n",
       "      <td>1.562118</td>\n",
       "      <td>4</td>\n",
       "      <td>2</td>\n",
       "      <td>20</td>\n",
       "      <td>7</td>\n",
       "      <td>80.745151</td>\n",
       "      <td>1</td>\n",
       "    </tr>\n",
       "  </tbody>\n",
       "</table>\n",
       "</div>"
      ],
      "text/plain": [
       "   Posts_Per_Month  Avg_Likes_Per_Post  Number_Of_Followers  \\\n",
       "0               12          106.087691           413.107130   \n",
       "1                6           54.527677          1580.601714   \n",
       "2               11          146.425156            96.369581   \n",
       "3               14          153.876330           585.599379   \n",
       "4                7           81.616339           112.155672   \n",
       "\n",
       "   Time_Spent_Per_Day  Engagement_Rate  Comments_Per_Post  Shares_Per_Post  \\\n",
       "0            1.218727         8.685658                  4                4   \n",
       "1            1.735474         4.952348                  0                7   \n",
       "2            2.397132         8.622720                  8                2   \n",
       "3            1.372855         9.037812                  9                2   \n",
       "4            2.146779         1.562118                  4                2   \n",
       "\n",
       "   Peak_Activity_Hour  Days_Active_Per_Week  Profile_Completeness  \\\n",
       "0                  10                     3             53.678168   \n",
       "1                  11                     1             52.671730   \n",
       "2                  18                     6             96.877517   \n",
       "3                  18                     3             76.493781   \n",
       "4                  20                     7             80.745151   \n",
       "\n",
       "   Cluster_Made  \n",
       "0             1  \n",
       "1             2  \n",
       "2             1  \n",
       "3             0  \n",
       "4             1  "
      ]
     },
     "execution_count": 28,
     "metadata": {},
     "output_type": "execute_result"
    }
   ],
   "source": [
    "media.head()"
   ]
  },
  {
   "cell_type": "code",
   "execution_count": 29,
   "metadata": {
    "id": "ekaG4kP2KCo2",
    "outputId": "c4de29fc-b009-489f-be1a-2a0a8861ac6e"
   },
   "outputs": [],
   "source": [
    "media.Cluster_Made = media.Cluster_Made.replace([0,1,2],['First Group','Second Group','Third Group'])"
   ]
  },
  {
   "cell_type": "code",
   "execution_count": 30,
   "metadata": {},
   "outputs": [
    {
     "data": {
      "text/html": [
       "<div>\n",
       "<style scoped>\n",
       "    .dataframe tbody tr th:only-of-type {\n",
       "        vertical-align: middle;\n",
       "    }\n",
       "\n",
       "    .dataframe tbody tr th {\n",
       "        vertical-align: top;\n",
       "    }\n",
       "\n",
       "    .dataframe thead th {\n",
       "        text-align: right;\n",
       "    }\n",
       "</style>\n",
       "<table border=\"1\" class=\"dataframe\">\n",
       "  <thead>\n",
       "    <tr style=\"text-align: right;\">\n",
       "      <th></th>\n",
       "      <th>Posts_Per_Month</th>\n",
       "      <th>Avg_Likes_Per_Post</th>\n",
       "      <th>Number_Of_Followers</th>\n",
       "      <th>Time_Spent_Per_Day</th>\n",
       "      <th>Engagement_Rate</th>\n",
       "      <th>Comments_Per_Post</th>\n",
       "      <th>Shares_Per_Post</th>\n",
       "      <th>Peak_Activity_Hour</th>\n",
       "      <th>Days_Active_Per_Week</th>\n",
       "      <th>Profile_Completeness</th>\n",
       "      <th>Cluster_Made</th>\n",
       "    </tr>\n",
       "  </thead>\n",
       "  <tbody>\n",
       "    <tr>\n",
       "      <th>0</th>\n",
       "      <td>12</td>\n",
       "      <td>106.087691</td>\n",
       "      <td>413.107130</td>\n",
       "      <td>1.218727</td>\n",
       "      <td>8.685658</td>\n",
       "      <td>4</td>\n",
       "      <td>4</td>\n",
       "      <td>10</td>\n",
       "      <td>3</td>\n",
       "      <td>53.678168</td>\n",
       "      <td>Second Group</td>\n",
       "    </tr>\n",
       "    <tr>\n",
       "      <th>1</th>\n",
       "      <td>6</td>\n",
       "      <td>54.527677</td>\n",
       "      <td>1580.601714</td>\n",
       "      <td>1.735474</td>\n",
       "      <td>4.952348</td>\n",
       "      <td>0</td>\n",
       "      <td>7</td>\n",
       "      <td>11</td>\n",
       "      <td>1</td>\n",
       "      <td>52.671730</td>\n",
       "      <td>Third Group</td>\n",
       "    </tr>\n",
       "    <tr>\n",
       "      <th>2</th>\n",
       "      <td>11</td>\n",
       "      <td>146.425156</td>\n",
       "      <td>96.369581</td>\n",
       "      <td>2.397132</td>\n",
       "      <td>8.622720</td>\n",
       "      <td>8</td>\n",
       "      <td>2</td>\n",
       "      <td>18</td>\n",
       "      <td>6</td>\n",
       "      <td>96.877517</td>\n",
       "      <td>Second Group</td>\n",
       "    </tr>\n",
       "    <tr>\n",
       "      <th>3</th>\n",
       "      <td>14</td>\n",
       "      <td>153.876330</td>\n",
       "      <td>585.599379</td>\n",
       "      <td>1.372855</td>\n",
       "      <td>9.037812</td>\n",
       "      <td>9</td>\n",
       "      <td>2</td>\n",
       "      <td>18</td>\n",
       "      <td>3</td>\n",
       "      <td>76.493781</td>\n",
       "      <td>First Group</td>\n",
       "    </tr>\n",
       "    <tr>\n",
       "      <th>4</th>\n",
       "      <td>7</td>\n",
       "      <td>81.616339</td>\n",
       "      <td>112.155672</td>\n",
       "      <td>2.146779</td>\n",
       "      <td>1.562118</td>\n",
       "      <td>4</td>\n",
       "      <td>2</td>\n",
       "      <td>20</td>\n",
       "      <td>7</td>\n",
       "      <td>80.745151</td>\n",
       "      <td>Second Group</td>\n",
       "    </tr>\n",
       "  </tbody>\n",
       "</table>\n",
       "</div>"
      ],
      "text/plain": [
       "   Posts_Per_Month  Avg_Likes_Per_Post  Number_Of_Followers  \\\n",
       "0               12          106.087691           413.107130   \n",
       "1                6           54.527677          1580.601714   \n",
       "2               11          146.425156            96.369581   \n",
       "3               14          153.876330           585.599379   \n",
       "4                7           81.616339           112.155672   \n",
       "\n",
       "   Time_Spent_Per_Day  Engagement_Rate  Comments_Per_Post  Shares_Per_Post  \\\n",
       "0            1.218727         8.685658                  4                4   \n",
       "1            1.735474         4.952348                  0                7   \n",
       "2            2.397132         8.622720                  8                2   \n",
       "3            1.372855         9.037812                  9                2   \n",
       "4            2.146779         1.562118                  4                2   \n",
       "\n",
       "   Peak_Activity_Hour  Days_Active_Per_Week  Profile_Completeness  \\\n",
       "0                  10                     3             53.678168   \n",
       "1                  11                     1             52.671730   \n",
       "2                  18                     6             96.877517   \n",
       "3                  18                     3             76.493781   \n",
       "4                  20                     7             80.745151   \n",
       "\n",
       "   Cluster_Made  \n",
       "0  Second Group  \n",
       "1   Third Group  \n",
       "2  Second Group  \n",
       "3   First Group  \n",
       "4  Second Group  "
      ]
     },
     "execution_count": 30,
     "metadata": {},
     "output_type": "execute_result"
    }
   ],
   "source": [
    "media.head()"
   ]
  },
  {
   "cell_type": "markdown",
   "metadata": {
    "id": "-bAfk3CpKCo2"
   },
   "source": [
    "### Final Cluster Centorids"
   ]
  },
  {
   "cell_type": "code",
   "execution_count": 31,
   "metadata": {
    "id": "SkchBtBLKCo2",
    "outputId": "db1f0daf-f361-477c-d259-70559fa76f1d"
   },
   "outputs": [
    {
     "data": {
      "text/plain": [
       "array([[9.50434783e+00, 1.04939052e+02, 8.26165810e+02, 1.96369195e+00,\n",
       "        5.48974300e+00, 5.24347826e+00, 2.94782609e+00, 1.17304348e+01,\n",
       "        3.53043478e+00, 7.16043143e+01],\n",
       "       [9.90384615e+00, 1.03723716e+02, 2.17654855e+02, 2.04166819e+00,\n",
       "        5.44993974e+00, 4.98846154e+00, 3.01923077e+00, 1.18807692e+01,\n",
       "        3.88076923e+00, 7.50515517e+01],\n",
       "       [1.00400000e+01, 9.65416973e+01, 1.97353569e+03, 2.00721911e+00,\n",
       "        5.04547839e+00, 3.88000000e+00, 3.04000000e+00, 1.03200000e+01,\n",
       "        4.16000000e+00, 7.04914959e+01]])"
      ]
     },
     "execution_count": 31,
     "metadata": {},
     "output_type": "execute_result"
    }
   ],
   "source": [
    "model2.cluster_centers_"
   ]
  },
  {
   "cell_type": "code",
   "execution_count": 32,
   "metadata": {
    "id": "MpXOdHLVKCo2",
    "outputId": "66942690-830f-4bb3-c4e3-b699dc375556"
   },
   "outputs": [
    {
     "data": {
      "text/plain": [
       "Cluster_Made\n",
       "Second Group    260\n",
       "First Group     115\n",
       "Third Group      25\n",
       "Name: count, dtype: int64"
      ]
     },
     "execution_count": 32,
     "metadata": {},
     "output_type": "execute_result"
    }
   ],
   "source": [
    "media.Cluster_Made.value_counts(ascending=False)"
   ]
  },
  {
   "cell_type": "markdown",
   "metadata": {
    "id": "hTzBA9X6KCo2"
   },
   "source": [
    "# Business Submission"
   ]
  },
  {
   "cell_type": "code",
   "execution_count": 34,
   "metadata": {
    "id": "_4XEGJY2KCo2",
    "outputId": "7ea486fc-4cbf-45ac-969c-036201ed57ff"
   },
   "outputs": [
    {
     "data": {
      "text/html": [
       "<div>\n",
       "<style scoped>\n",
       "    .dataframe tbody tr th:only-of-type {\n",
       "        vertical-align: middle;\n",
       "    }\n",
       "\n",
       "    .dataframe tbody tr th {\n",
       "        vertical-align: top;\n",
       "    }\n",
       "\n",
       "    .dataframe thead th {\n",
       "        text-align: right;\n",
       "    }\n",
       "</style>\n",
       "<table border=\"1\" class=\"dataframe\">\n",
       "  <thead>\n",
       "    <tr style=\"text-align: right;\">\n",
       "      <th></th>\n",
       "      <th>Avg_Likes_Per_Post</th>\n",
       "      <th>Cluster_Made</th>\n",
       "    </tr>\n",
       "  </thead>\n",
       "  <tbody>\n",
       "    <tr>\n",
       "      <th>0</th>\n",
       "      <td>106.087691</td>\n",
       "      <td>Second Group</td>\n",
       "    </tr>\n",
       "    <tr>\n",
       "      <th>1</th>\n",
       "      <td>54.527677</td>\n",
       "      <td>Third Group</td>\n",
       "    </tr>\n",
       "    <tr>\n",
       "      <th>2</th>\n",
       "      <td>146.425156</td>\n",
       "      <td>Second Group</td>\n",
       "    </tr>\n",
       "    <tr>\n",
       "      <th>3</th>\n",
       "      <td>153.876330</td>\n",
       "      <td>First Group</td>\n",
       "    </tr>\n",
       "    <tr>\n",
       "      <th>4</th>\n",
       "      <td>81.616339</td>\n",
       "      <td>Second Group</td>\n",
       "    </tr>\n",
       "    <tr>\n",
       "      <th>...</th>\n",
       "      <td>...</td>\n",
       "      <td>...</td>\n",
       "    </tr>\n",
       "    <tr>\n",
       "      <th>395</th>\n",
       "      <td>63.710769</td>\n",
       "      <td>First Group</td>\n",
       "    </tr>\n",
       "    <tr>\n",
       "      <th>396</th>\n",
       "      <td>150.177172</td>\n",
       "      <td>Second Group</td>\n",
       "    </tr>\n",
       "    <tr>\n",
       "      <th>397</th>\n",
       "      <td>112.570570</td>\n",
       "      <td>First Group</td>\n",
       "    </tr>\n",
       "    <tr>\n",
       "      <th>398</th>\n",
       "      <td>78.849644</td>\n",
       "      <td>Third Group</td>\n",
       "    </tr>\n",
       "    <tr>\n",
       "      <th>399</th>\n",
       "      <td>98.326928</td>\n",
       "      <td>Second Group</td>\n",
       "    </tr>\n",
       "  </tbody>\n",
       "</table>\n",
       "<p>400 rows × 2 columns</p>\n",
       "</div>"
      ],
      "text/plain": [
       "     Avg_Likes_Per_Post  Cluster_Made\n",
       "0            106.087691  Second Group\n",
       "1             54.527677   Third Group\n",
       "2            146.425156  Second Group\n",
       "3            153.876330   First Group\n",
       "4             81.616339  Second Group\n",
       "..                  ...           ...\n",
       "395           63.710769   First Group\n",
       "396          150.177172  Second Group\n",
       "397          112.570570   First Group\n",
       "398           78.849644   Third Group\n",
       "399           98.326928  Second Group\n",
       "\n",
       "[400 rows x 2 columns]"
      ]
     },
     "execution_count": 34,
     "metadata": {},
     "output_type": "execute_result"
    }
   ],
   "source": [
    "Submission = media.loc[:,['Avg_Likes_Per_Post','Cluster_Made']]\n",
    "Submission"
   ]
  }
 ],
 "metadata": {
  "colab": {
   "provenance": []
  },
  "kernelspec": {
   "display_name": "Python 3 (ipykernel)",
   "language": "python",
   "name": "python3"
  },
  "language_info": {
   "codemirror_mode": {
    "name": "ipython",
    "version": 3
   },
   "file_extension": ".py",
   "mimetype": "text/x-python",
   "name": "python",
   "nbconvert_exporter": "python",
   "pygments_lexer": "ipython3",
   "version": "3.11.5"
  }
 },
 "nbformat": 4,
 "nbformat_minor": 1
}
